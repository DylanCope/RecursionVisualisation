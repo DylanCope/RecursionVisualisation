{
 "cells": [
  {
   "cell_type": "code",
   "execution_count": 51,
   "metadata": {
    "collapsed": true
   },
   "outputs": [],
   "source": [
    "import numpy as np\n",
    "import matplotlib.pyplot as plt"
   ]
  },
  {
   "cell_type": "markdown",
   "metadata": {},
   "source": [
    "# Visualising Recursive Function Application\n",
    "\n",
    "In 3blue1brown's [YouTube video](https://youtu.be/CfW845LNObM), Grant uses a way of visualising functions as transformations between number-lines. He uses this technique to show how the limits of the recursive function, \n",
    "\n",
    "$$x_{n+1} = 1 + \\frac{1}{x_n}$$ \n",
    "\n",
    "are the values $\\varphi$ and $-\\frac{1}{\\varphi}$, where $\\varphi$ is the golden ratio. However, the power of the visualisation technique was in showing that all starting points $x_0 \\neq -\\frac{1}{\\varphi}$ converge on $\\varphi$. In this notebook, we explore visualising this recursive process with stacked number-lines that are coloured to show how different starting points converge in different ways. "
   ]
  },
  {
   "cell_type": "code",
   "execution_count": 68,
   "metadata": {
    "collapsed": false,
    "scrolled": false
   },
   "outputs": [
    {
     "data": {
      "image/png": "[encoded data removed]",
      "text/plain": [
       "<Figure size 864x432 with 2 Axes>"
      ]
     },
     "metadata": {},
     "output_type": "display_data"
    }
   ],
   "source": [
    "def f(x): return 1 + 1 / x\n",
    "\n",
    "def generate(x, n=10):\n",
    "    if n > 0:\n",
    "        rest = generate(f(x), n-1)\n",
    "        return np.vstack((x, rest))\n",
    "    return f(x)\n",
    "  \n",
    "x_min, x_max = -2.5, 2.5\n",
    "nx, ny = 1000, 12\n",
    "x = np.linspace(x_min, x_max, nx)\n",
    "y = np.linspace(0, ny, ny)\n",
    "xx, yy = np.meshgrid(x, y, sparse = False)\n",
    "zz = generate(x, ny-1)\n",
    "\n",
    "fig, ax = plt.subplots(figsize = (12, 6))\n",
    "plt.title('Visualising Recursive Application of $x_{n+1} = 1 + 1 / x_n$')\n",
    "plt.pcolormesh(xx, yy, zz, cmap='viridis', vmin=x_min, vmax=x_max)\n",
    "plt.xlim([x_min, x_max])\n",
    "plt.ylim([0, ny])\n",
    "ax.get_yaxis().set_ticks([])\n",
    "plt.colorbar()\n",
    "plt.show()"
   ]
  },
  {
   "cell_type": "markdown",
   "metadata": {},
   "source": [
    "As we can see, all values seem to converge to the green associated with $\\varphi$, and starting values around $-1/\\varphi$ move back and forth across each side of it, getting further away with each jump until it crosses into the positive side of the number line and starts to approach $\\varphi$."
   ]
  }
 ],
 "metadata": {
  "kernelspec": {
   "display_name": "Python 3",
   "language": "python",
   "name": "python3"
  },
  "language_info": {
   "codemirror_mode": {
    "name": "ipython",
    "version": 3
   },
   "file_extension": ".py",
   "mimetype": "text/x-python",
   "name": "python",
   "nbconvert_exporter": "python",
   "pygments_lexer": "ipython3",
   "version": "3.5.4"
  }
 },
 "nbformat": 4,
 "nbformat_minor": 2
}
